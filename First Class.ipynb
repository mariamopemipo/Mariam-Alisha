{
 "cells": [
  {
   "cell_type": "code",
   "execution_count": 1,
   "id": "d622d75b",
   "metadata": {},
   "outputs": [
    {
     "data": {
      "text/plain": [
       "4"
      ]
     },
     "execution_count": 1,
     "metadata": {},
     "output_type": "execute_result"
    }
   ],
   "source": [
    "2+2"
   ]
  },
  {
   "cell_type": "markdown",
   "id": "8e6727c5",
   "metadata": {},
   "source": [
    "Test"
   ]
  },
  {
   "cell_type": "code",
   "execution_count": 4,
   "id": "44861c5f",
   "metadata": {},
   "outputs": [
    {
     "data": {
      "text/plain": [
       "4"
      ]
     },
     "execution_count": 4,
     "metadata": {},
     "output_type": "execute_result"
    }
   ],
   "source": [
    "#test\n",
    "2+2"
   ]
  },
  {
   "cell_type": "code",
   "execution_count": 5,
   "id": "ad8b9454",
   "metadata": {},
   "outputs": [],
   "source": [
    "test=2+2\n"
   ]
  },
  {
   "cell_type": "code",
   "execution_count": 6,
   "id": "3281d2c2",
   "metadata": {},
   "outputs": [
    {
     "data": {
      "text/plain": [
       "4"
      ]
     },
     "execution_count": 6,
     "metadata": {},
     "output_type": "execute_result"
    }
   ],
   "source": [
    "test"
   ]
  },
  {
   "cell_type": "code",
   "execution_count": 8,
   "id": "0d06383b",
   "metadata": {},
   "outputs": [
    {
     "name": "stdout",
     "output_type": "stream",
     "text": [
      "What is your name?Mariam\n",
      "You're WelcomeMariam\n"
     ]
    }
   ],
   "source": [
    "Name = input (\"What is your name?\")\n",
    "print (\"You're Welcome\" + Name)"
   ]
  },
  {
   "cell_type": "code",
   "execution_count": null,
   "id": "25ae2415",
   "metadata": {},
   "outputs": [],
   "source": [
    "World=2+2"
   ]
  },
  {
   "cell_type": "code",
   "execution_count": 16,
   "id": "4544c621",
   "metadata": {},
   "outputs": [
    {
     "name": "stdout",
     "output_type": "stream",
     "text": [
      "4\n"
     ]
    }
   ],
   "source": [
    "print(World)"
   ]
  },
  {
   "cell_type": "code",
   "execution_count": 18,
   "id": "bb23d401",
   "metadata": {},
   "outputs": [
    {
     "data": {
      "text/plain": [
       "True"
      ]
     },
     "execution_count": 18,
     "metadata": {},
     "output_type": "execute_result"
    }
   ],
   "source": [
    "World==4"
   ]
  },
  {
   "cell_type": "code",
   "execution_count": 19,
   "id": "09381486",
   "metadata": {},
   "outputs": [
    {
     "data": {
      "text/plain": [
       "True"
      ]
     },
     "execution_count": 19,
     "metadata": {},
     "output_type": "execute_result"
    }
   ],
   "source": [
    "5+2==7"
   ]
  },
  {
   "cell_type": "code",
   "execution_count": 20,
   "id": "4b94e5c7",
   "metadata": {},
   "outputs": [
    {
     "ename": "SyntaxError",
     "evalue": "cannot assign to operator (2963004357.py, line 1)",
     "output_type": "error",
     "traceback": [
      "\u001b[0;36m  Input \u001b[0;32mIn [20]\u001b[0;36m\u001b[0m\n\u001b[0;31m    5+2=7\u001b[0m\n\u001b[0m    ^\u001b[0m\n\u001b[0;31mSyntaxError\u001b[0m\u001b[0;31m:\u001b[0m cannot assign to operator\n"
     ]
    }
   ],
   "source": [
    "5+2=7"
   ]
  },
  {
   "cell_type": "code",
   "execution_count": null,
   "id": "6434652a",
   "metadata": {},
   "outputs": [],
   "source": [
    "# 5 types of data\n",
    "# integer / float / number\n",
    "# strings\n",
    "# booleans\n",
    "# sequences\n",
    "# dictionaries\n",
    "# {} dictionary - key value pair - value assigned to key\n",
    "# [] lists - values e.g 1,2,3,4 - mutable, can take in all data types - slicers*\n",
    "# () tuple - values e.g 1,2,3,4 - immutable - best to use one type of data\n"
   ]
  },
  {
   "cell_type": "code",
   "execution_count": 74,
   "id": "537e4f62",
   "metadata": {},
   "outputs": [],
   "source": [
    "myint = 27\n",
    "mybool = True\n",
    "mylist = [1,2,3,\"four\",0.2,False]\n",
    "mytuple = (1,2,3,4)\n",
    "mydict = {\"one\":1,\"two\":2,\"three\":3,\"four\":4}"
   ]
  },
  {
   "cell_type": "code",
   "execution_count": 24,
   "id": "cca1fdbb",
   "metadata": {},
   "outputs": [
    {
     "data": {
      "text/plain": [
       "9.0"
      ]
     },
     "execution_count": 24,
     "metadata": {},
     "output_type": "execute_result"
    }
   ],
   "source": [
    "myint/3"
   ]
  },
  {
   "cell_type": "code",
   "execution_count": 25,
   "id": "16d804f2",
   "metadata": {},
   "outputs": [
    {
     "data": {
      "text/plain": [
       "6.75"
      ]
     },
     "execution_count": 25,
     "metadata": {},
     "output_type": "execute_result"
    }
   ],
   "source": [
    "myint/4"
   ]
  },
  {
   "cell_type": "code",
   "execution_count": 26,
   "id": "5aa474d4",
   "metadata": {},
   "outputs": [
    {
     "data": {
      "text/plain": [
       "3"
      ]
     },
     "execution_count": 26,
     "metadata": {},
     "output_type": "execute_result"
    }
   ],
   "source": [
    "myint%4"
   ]
  },
  {
   "cell_type": "code",
   "execution_count": 27,
   "id": "74f6f09d",
   "metadata": {},
   "outputs": [
    {
     "ename": "SyntaxError",
     "evalue": "invalid syntax (592931490.py, line 1)",
     "output_type": "error",
     "traceback": [
      "\u001b[0;36m  Input \u001b[0;32mIn [27]\u001b[0;36m\u001b[0m\n\u001b[0;31m    myint%%4\u001b[0m\n\u001b[0m          ^\u001b[0m\n\u001b[0;31mSyntaxError\u001b[0m\u001b[0;31m:\u001b[0m invalid syntax\n"
     ]
    }
   ],
   "source": [
    "myint%%4"
   ]
  },
  {
   "cell_type": "code",
   "execution_count": 48,
   "id": "b5715eee",
   "metadata": {},
   "outputs": [
    {
     "name": "stdout",
     "output_type": "stream",
     "text": [
      "[1, 2, 3, 'four', 0.2, False]\n"
     ]
    }
   ],
   "source": [
    "print (mylist)"
   ]
  },
  {
   "cell_type": "code",
   "execution_count": 56,
   "id": "dfc910eb",
   "metadata": {},
   "outputs": [
    {
     "data": {
      "text/plain": [
       "[1, 2, 3, 'four']"
      ]
     },
     "execution_count": 56,
     "metadata": {},
     "output_type": "execute_result"
    }
   ],
   "source": [
    "mylist [:4]"
   ]
  },
  {
   "cell_type": "code",
   "execution_count": 51,
   "id": "c03dc2b6",
   "metadata": {},
   "outputs": [
    {
     "data": {
      "text/plain": [
       "[2, 'four']"
      ]
     },
     "execution_count": 51,
     "metadata": {},
     "output_type": "execute_result"
    }
   ],
   "source": [
    "mylist [1:5:2]"
   ]
  },
  {
   "cell_type": "code",
   "execution_count": 69,
   "id": "31efb419",
   "metadata": {},
   "outputs": [
    {
     "data": {
      "text/plain": [
       "(1, 2, 3)"
      ]
     },
     "execution_count": 69,
     "metadata": {},
     "output_type": "execute_result"
    }
   ],
   "source": [
    "mytuple [:3]"
   ]
  },
  {
   "cell_type": "code",
   "execution_count": 70,
   "id": "e4d41775",
   "metadata": {},
   "outputs": [
    {
     "data": {
      "text/plain": [
       "(1, 2, 3, 4)"
      ]
     },
     "execution_count": 70,
     "metadata": {},
     "output_type": "execute_result"
    }
   ],
   "source": [
    "mytuple"
   ]
  },
  {
   "cell_type": "code",
   "execution_count": 71,
   "id": "434d0eb6",
   "metadata": {},
   "outputs": [
    {
     "data": {
      "text/plain": [
       "(1, 2, 3, 4, 1, 2, 3, 4)"
      ]
     },
     "execution_count": 71,
     "metadata": {},
     "output_type": "execute_result"
    }
   ],
   "source": [
    "mytuple*2"
   ]
  },
  {
   "cell_type": "code",
   "execution_count": 72,
   "id": "c87533ef",
   "metadata": {},
   "outputs": [],
   "source": [
    "moilist = [1,2,3,4,5]"
   ]
  },
  {
   "cell_type": "code",
   "execution_count": 73,
   "id": "552447ce",
   "metadata": {},
   "outputs": [
    {
     "data": {
      "text/plain": [
       "[1, 2, 3, 4, 5, 1, 2, 3, 4, 5]"
      ]
     },
     "execution_count": 73,
     "metadata": {},
     "output_type": "execute_result"
    }
   ],
   "source": [
    "moilist*2"
   ]
  },
  {
   "cell_type": "code",
   "execution_count": null,
   "id": "b1a0546e",
   "metadata": {},
   "outputs": [],
   "source": [
    "mydict []"
   ]
  }
 ],
 "metadata": {
  "kernelspec": {
   "display_name": "Python 3 (ipykernel)",
   "language": "python",
   "name": "python3"
  },
  "language_info": {
   "codemirror_mode": {
    "name": "ipython",
    "version": 3
   },
   "file_extension": ".py",
   "mimetype": "text/x-python",
   "name": "python",
   "nbconvert_exporter": "python",
   "pygments_lexer": "ipython3",
   "version": "3.9.12"
  }
 },
 "nbformat": 4,
 "nbformat_minor": 5
}
